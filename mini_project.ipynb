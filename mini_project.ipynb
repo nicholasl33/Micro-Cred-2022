{
  "nbformat": 4,
  "nbformat_minor": 0,
  "metadata": {
    "colab": {
      "name": "mini-project.ipynb",
      "provenance": [],
      "authorship_tag": "ABX9TyPoYvEalZsImWgjXh8uiBj6",
      "include_colab_link": true
    },
    "kernelspec": {
      "name": "python3",
      "display_name": "Python 3"
    },
    "language_info": {
      "name": "python"
    }
  },
  "cells": [
    {
      "cell_type": "markdown",
      "metadata": {
        "id": "view-in-github",
        "colab_type": "text"
      },
      "source": [
        "<a href=\"https://colab.research.google.com/github/nicholasl33/Micro-Cred-2022/blob/main/mini_project.ipynb\" target=\"_parent\"><img src=\"https://colab.research.google.com/assets/colab-badge.svg\" alt=\"Open In Colab\"/></a>"
      ]
    },
    {
      "cell_type": "code",
      "execution_count": 22,
      "metadata": {
        "id": "hVVH5OIltwZt"
      },
      "outputs": [],
      "source": [
        "def number():\n",
        "  '''\n",
        "  Ask the user for number and check if its even or odd.\n",
        "  '''\n",
        "  num = int(input(\"Please enter a number: \"))\n",
        "  check = int(input(\"Insert another number: \"))\n",
        "\n",
        "  if (num % 2) == 0:\n",
        "    print(\"This first number is even!\")\n",
        "  else:\n",
        "    print(\"This first number is not even!\")\n",
        "  \n",
        "  if (num % 4) == 0:\n",
        "    print(\"This first number is divisible by 4\")\n",
        "  else:\n",
        "    print(\"This first number is not divisible by 4\")\n",
        "\n",
        "  if (num % check) == 0:\n",
        "    print(f\"{num} divides evenly by {check}\")\n",
        "  else:\n",
        "    print(f\"{num} doesn't divide evenly by {check}\")\n",
        "\n",
        "  "
      ]
    },
    {
      "cell_type": "code",
      "source": [
        "number()"
      ],
      "metadata": {
        "colab": {
          "base_uri": "https://localhost:8080/"
        },
        "id": "LBRqcKOuuzVc",
        "outputId": "859e9021-4a86-4810-e739-a149f728a592"
      },
      "execution_count": 23,
      "outputs": [
        {
          "output_type": "stream",
          "name": "stdout",
          "text": [
            "Please enter a number: 60\n",
            "Insert another number: 5\n",
            "This first number is even!\n",
            "This first number is divisible by 4\n",
            "60 divides evenly by 5\n"
          ]
        }
      ]
    },
    {
      "cell_type": "code",
      "source": [
        ""
      ],
      "metadata": {
        "id": "D01_78Q0u1sW"
      },
      "execution_count": 6,
      "outputs": []
    }
  ]
}