{
  "nbformat": 4,
  "nbformat_minor": 0,
  "metadata": {
    "colab": {
      "name": "Workshop.ipynb",
      "provenance": [],
      "collapsed_sections": [],
      "authorship_tag": "ABX9TyMoHd0Bd+KmPM+r1tLErJYX",
      "include_colab_link": true
    },
    "kernelspec": {
      "name": "python3",
      "display_name": "Python 3"
    },
    "language_info": {
      "name": "python"
    }
  },
  "cells": [
    {
      "cell_type": "markdown",
      "metadata": {
        "id": "view-in-github",
        "colab_type": "text"
      },
      "source": [
        "<a href=\"https://colab.research.google.com/github/nicholasl33/Micro-Cred-2022/blob/main/Workshop.ipynb\" target=\"_parent\"><img src=\"https://colab.research.google.com/assets/colab-badge.svg\" alt=\"Open In Colab\"/></a>"
      ]
    },
    {
      "cell_type": "markdown",
      "source": [
        "# Lesson 4 -- Looping"
      ],
      "metadata": {
        "id": "TQyNB2j8aXee"
      }
    },
    {
      "cell_type": "code",
      "source": [
        "# 1. Create a list that holds 5 data variables."
      ],
      "metadata": {
        "id": "uQ5HqeWdakBj"
      },
      "execution_count": null,
      "outputs": []
    },
    {
      "cell_type": "code",
      "source": [
        "list = ['thumb', 'index', 'middle', 'ring', 'pinky']"
      ],
      "metadata": {
        "id": "I69GCbQTapNd"
      },
      "execution_count": null,
      "outputs": []
    },
    {
      "cell_type": "code",
      "source": [
        "# 2. Print out those variables by using a for loop."
      ],
      "metadata": {
        "id": "bTpk-SvBaj9G"
      },
      "execution_count": null,
      "outputs": []
    },
    {
      "cell_type": "code",
      "source": [
        "for hand in list:\n",
        "  print(hand)"
      ],
      "metadata": {
        "colab": {
          "base_uri": "https://localhost:8080/"
        },
        "id": "C55jLxwOaj6h",
        "outputId": "81ef0b73-3cf8-44f6-e088-106f6eee0c0c"
      },
      "execution_count": null,
      "outputs": [
        {
          "output_type": "stream",
          "name": "stdout",
          "text": [
            "thumb\n",
            "index\n",
            "middle\n",
            "ring\n",
            "pinky\n"
          ]
        }
      ]
    },
    {
      "cell_type": "code",
      "source": [
        "# 3. Modify your for loop to add a message to your for loop."
      ],
      "metadata": {
        "id": "KHeryvGcaj4c"
      },
      "execution_count": null,
      "outputs": []
    },
    {
      "cell_type": "code",
      "source": [
        "for hand in list:\n",
        "  print(hand + ' is a finger on my hand')"
      ],
      "metadata": {
        "colab": {
          "base_uri": "https://localhost:8080/"
        },
        "id": "DRbIWLw1aj2F",
        "outputId": "abe8870d-152c-4734-a66f-f5075cf9de78"
      },
      "execution_count": null,
      "outputs": [
        {
          "output_type": "stream",
          "name": "stdout",
          "text": [
            "thumb is a finger on my hand\n",
            "index is a finger on my hand\n",
            "middle is a finger on my hand\n",
            "ring is a finger on my hand\n",
            "pinky is a finger on my hand\n"
          ]
        }
      ]
    },
    {
      "cell_type": "code",
      "source": [
        "# 4. Use a for loop to print even numbers from 1-20."
      ],
      "metadata": {
        "id": "yvLuM6R3ajzt"
      },
      "execution_count": null,
      "outputs": []
    },
    {
      "cell_type": "code",
      "source": [
        "for x in range(1,21):\n",
        "  if x % 2 == 0:\n",
        "    print(x)"
      ],
      "metadata": {
        "colab": {
          "base_uri": "https://localhost:8080/"
        },
        "id": "xQI4rWpudUJP",
        "outputId": "fc3b1f85-2e5c-4656-8aa1-f103657ee6e7"
      },
      "execution_count": null,
      "outputs": [
        {
          "output_type": "stream",
          "name": "stdout",
          "text": [
            "2\n",
            "4\n",
            "6\n",
            "8\n",
            "10\n",
            "12\n",
            "14\n",
            "16\n",
            "18\n",
            "20\n"
          ]
        }
      ]
    },
    {
      "cell_type": "code",
      "source": [
        "# 5. Sort your list in alphabetic order."
      ],
      "metadata": {
        "id": "H5mYsKMedUFF"
      },
      "execution_count": null,
      "outputs": []
    },
    {
      "cell_type": "code",
      "source": [
        "print(sorted(list))"
      ],
      "metadata": {
        "colab": {
          "base_uri": "https://localhost:8080/"
        },
        "id": "58uyn029dUCw",
        "outputId": "4736c432-638d-409f-c2cd-49e3b7ef14bf"
      },
      "execution_count": null,
      "outputs": [
        {
          "output_type": "stream",
          "name": "stdout",
          "text": [
            "['index', 'middle', 'pinky', 'ring', 'thumb']\n"
          ]
        }
      ]
    },
    {
      "cell_type": "code",
      "source": [
        "# 6. Print out the first three elements of your list."
      ],
      "metadata": {
        "id": "eevenPncajpD"
      },
      "execution_count": null,
      "outputs": []
    },
    {
      "cell_type": "code",
      "source": [
        "print(list[0:3])"
      ],
      "metadata": {
        "id": "Hf1eLKhdajmo",
        "colab": {
          "base_uri": "https://localhost:8080/"
        },
        "outputId": "2be7a54a-6ce0-4074-b052-a66e104f0513"
      },
      "execution_count": null,
      "outputs": [
        {
          "output_type": "stream",
          "name": "stdout",
          "text": [
            "['index', 'middle', 'pinky']\n"
          ]
        }
      ]
    },
    {
      "cell_type": "code",
      "source": [
        "# 7. Create a loop to print the last 2 elements of your list."
      ],
      "metadata": {
        "id": "-mz1Q60majkW"
      },
      "execution_count": null,
      "outputs": []
    },
    {
      "cell_type": "code",
      "source": [
        "print(list[3:5])"
      ],
      "metadata": {
        "colab": {
          "base_uri": "https://localhost:8080/"
        },
        "id": "trnhWXDjfj3s",
        "outputId": "97296aef-bac8-4eec-dab3-5003ac5064eb"
      },
      "execution_count": null,
      "outputs": [
        {
          "output_type": "stream",
          "name": "stdout",
          "text": [
            "['ring', 'thumb']\n"
          ]
        }
      ]
    },
    {
      "cell_type": "code",
      "source": [
        "for finger in list[3:5]:\n",
        "  print(finger)\n"
      ],
      "metadata": {
        "colab": {
          "base_uri": "https://localhost:8080/"
        },
        "id": "8zjxAGJmfxpD",
        "outputId": "507170b9-cbd4-4cb6-c185-49ea32d33b60"
      },
      "execution_count": null,
      "outputs": [
        {
          "output_type": "stream",
          "name": "stdout",
          "text": [
            "ring\n",
            "thumb\n"
          ]
        }
      ]
    },
    {
      "cell_type": "markdown",
      "source": [
        "# Lesson: Unit 2 - Python Dictionaries"
      ],
      "metadata": {
        "id": "NgjncdpVhlWY"
      }
    },
    {
      "cell_type": "code",
      "source": [
        "# 1. Create a simple dictionary that stores 2 variables, for example: first and last name."
      ],
      "metadata": {
        "id": "qri6FGHXiEZD"
      },
      "execution_count": null,
      "outputs": []
    },
    {
      "cell_type": "code",
      "source": [
        "name = {'first name': 'Nick', 'last name': 'Louie'}"
      ],
      "metadata": {
        "id": "X28ot2k2hqZ-"
      },
      "execution_count": null,
      "outputs": []
    },
    {
      "cell_type": "code",
      "source": [
        "# 2. Print out those variables stored in your previous dictionary."
      ],
      "metadata": {
        "id": "x_5zbDX8iBoQ"
      },
      "execution_count": null,
      "outputs": []
    },
    {
      "cell_type": "code",
      "source": [
        "print(name['first name'])\n",
        "print(name['last name'])"
      ],
      "metadata": {
        "colab": {
          "base_uri": "https://localhost:8080/"
        },
        "id": "AO6gkDL_iTW2",
        "outputId": "4773cad0-6fe6-437e-99c3-e44cf07ec05d"
      },
      "execution_count": null,
      "outputs": [
        {
          "output_type": "stream",
          "name": "stdout",
          "text": [
            "Nick\n",
            "Louie\n"
          ]
        }
      ]
    },
    {
      "cell_type": "code",
      "source": [
        "# 3. Add a message to those variables on printing: for example: “Hello, firstname lastname!”"
      ],
      "metadata": {
        "id": "S4YxvVHhiVG5"
      },
      "execution_count": null,
      "outputs": []
    },
    {
      "cell_type": "code",
      "source": [
        "print('Hello, ' + name['first name'] + ' ' + name['last name'])"
      ],
      "metadata": {
        "colab": {
          "base_uri": "https://localhost:8080/"
        },
        "id": "0FHT7p5OjR2l",
        "outputId": "cf7e385a-851a-4604-902f-0a10462bf43d"
      },
      "execution_count": null,
      "outputs": [
        {
          "output_type": "stream",
          "name": "stdout",
          "text": [
            "Hello, Nick Louie\n"
          ]
        }
      ]
    },
    {
      "cell_type": "code",
      "source": [
        "# 4. Create a dictionary that holds 2 key: value pairs:\n",
        "# a. Look through your dictionary and print each pair,"
      ],
      "metadata": {
        "id": "bBYrBZFkjRz9"
      },
      "execution_count": null,
      "outputs": []
    },
    {
      "cell_type": "code",
      "source": [
        "d = {'key1':1,'key2':2}"
      ],
      "metadata": {
        "id": "eDS9SLDMjRuN"
      },
      "execution_count": null,
      "outputs": []
    },
    {
      "cell_type": "code",
      "source": [
        "print(d)"
      ],
      "metadata": {
        "colab": {
          "base_uri": "https://localhost:8080/"
        },
        "id": "YASoA8xDkRQg",
        "outputId": "8f6dc716-46b0-48c8-9439-8b0cbbc93630"
      },
      "execution_count": null,
      "outputs": [
        {
          "output_type": "stream",
          "name": "stdout",
          "text": [
            "{'key1': 1, 'key2': 2}\n"
          ]
        }
      ]
    },
    {
      "cell_type": "code",
      "source": [
        "# 5. Create a nested dictionary containing three dictionaries – these dictionaries could be anything (favorite pets, travel locations, etc.)\n",
        "# a. Loop through the dictionaries and print a message for each."
      ],
      "metadata": {
        "id": "k4_ENflzkWZX"
      },
      "execution_count": null,
      "outputs": []
    },
    {
      "cell_type": "code",
      "source": [
        "places_world = {'Continent1': {'Land': 'France', 'City': 'Paris'}, \n",
        "          'Continent2': {'Land': 'Japan', 'City': 'Tokyo'}, \n",
        "          'Continent3': {'Land': \"Egypt\", 'City': 'Cairo'}}"
      ],
      "metadata": {
        "id": "-WBobOQIkp3p"
      },
      "execution_count": 112,
      "outputs": []
    },
    {
      "cell_type": "code",
      "source": [
        "for k, v in places_world.items():\n",
        "  print(f\"In the {k} has {v['Land']} and {v['City']}\")"
      ],
      "metadata": {
        "colab": {
          "base_uri": "https://localhost:8080/"
        },
        "id": "Bi-uxVRJIZMT",
        "outputId": "55ebf8a8-6d72-436e-b93f-6ffe27af560c"
      },
      "execution_count": 113,
      "outputs": [
        {
          "output_type": "stream",
          "name": "stdout",
          "text": [
            "In the Continent1 has France and Paris\n",
            "In the Continent2 has Japan and Tokyo\n",
            "In the Continent3 has Egypt and Cairo\n"
          ]
        }
      ]
    },
    {
      "cell_type": "code",
      "source": [
        ""
      ],
      "metadata": {
        "id": "NQoIksK3MUlX"
      },
      "execution_count": null,
      "outputs": []
    }
  ]
}