{
  "nbformat": 4,
  "nbformat_minor": 0,
  "metadata": {
    "colab": {
      "name": "day3-dictionaries.ipynb",
      "provenance": [],
      "collapsed_sections": [],
      "authorship_tag": "ABX9TyNCA024zK35iAEsoydXz91x",
      "include_colab_link": true
    },
    "kernelspec": {
      "name": "python3",
      "display_name": "Python 3"
    },
    "language_info": {
      "name": "python"
    }
  },
  "cells": [
    {
      "cell_type": "markdown",
      "metadata": {
        "id": "view-in-github",
        "colab_type": "text"
      },
      "source": [
        "<a href=\"https://colab.research.google.com/github/nicholasl33/Micro-Cred-2022/blob/main/day3_dictionaries.ipynb\" target=\"_parent\"><img src=\"https://colab.research.google.com/assets/colab-badge.svg\" alt=\"Open In Colab\"/></a>"
      ]
    },
    {
      "cell_type": "markdown",
      "source": [
        "# Dictionaries"
      ],
      "metadata": {
        "id": "I7whF8Kasi3P"
      }
    },
    {
      "cell_type": "code",
      "source": [
        "patient_1 = {'first_name': 'John', 'last_name': 'Kimble'}"
      ],
      "metadata": {
        "id": "xxE5BpniuPny"
      },
      "execution_count": 1,
      "outputs": []
    },
    {
      "cell_type": "code",
      "source": [
        "print(patient_1['first_name'])\n",
        "print(patient_1['last_name'])"
      ],
      "metadata": {
        "colab": {
          "base_uri": "https://localhost:8080/"
        },
        "id": "w5eB5fHpuPle",
        "outputId": "b6b97492-db89-44eb-a7ec-8c978b57585f"
      },
      "execution_count": 2,
      "outputs": [
        {
          "output_type": "stream",
          "name": "stdout",
          "text": [
            "John\n",
            "Kimble\n"
          ]
        }
      ]
    },
    {
      "cell_type": "code",
      "source": [
        "# dictionaties is a collection of key-value pairs\n",
        "# each key is attached to a value \n",
        "# dictionaries are wrapped in braces {}\n",
        "# key is connected to its values by : and individual pairs are separated by ,"
      ],
      "metadata": {
        "id": "echx8IY-uPjJ"
      },
      "execution_count": 3,
      "outputs": []
    },
    {
      "cell_type": "code",
      "source": [
        "patient_name = patient_1['first_name']\n",
        "print('hello there, ' + patient_name)"
      ],
      "metadata": {
        "colab": {
          "base_uri": "https://localhost:8080/"
        },
        "id": "y-MIAyNQuPgz",
        "outputId": "ec3b5205-a8f2-45f0-a88b-e70f50511d65"
      },
      "execution_count": 4,
      "outputs": [
        {
          "output_type": "stream",
          "name": "stdout",
          "text": [
            "hello there, John\n"
          ]
        }
      ]
    },
    {
      "cell_type": "code",
      "source": [
        "patient_2 = {}"
      ],
      "metadata": {
        "id": "wTBtFJm2uPer"
      },
      "execution_count": 5,
      "outputs": []
    },
    {
      "cell_type": "code",
      "source": [
        "patient_2['first_name'] = 'Jean'"
      ],
      "metadata": {
        "id": "7leqh0sYuPcV"
      },
      "execution_count": 6,
      "outputs": []
    },
    {
      "cell_type": "code",
      "source": [
        "patient_2['last_name'] = 'Picard'"
      ],
      "metadata": {
        "id": "7YKY-rVyuPT8"
      },
      "execution_count": 7,
      "outputs": []
    },
    {
      "cell_type": "code",
      "source": [
        "patient_2"
      ],
      "metadata": {
        "colab": {
          "base_uri": "https://localhost:8080/"
        },
        "id": "eA2le-yNv9Ao",
        "outputId": "e4bbfb95-db3e-45a7-d295-7a7a7f34fec4"
      },
      "execution_count": 8,
      "outputs": [
        {
          "output_type": "execute_result",
          "data": {
            "text/plain": [
              "{'first_name': 'Jean', 'last_name': 'Picard'}"
            ]
          },
          "metadata": {},
          "execution_count": 8
        }
      ]
    },
    {
      "cell_type": "code",
      "source": [
        "patient_2['first_name'] = 'Jean-Luc'\n",
        "patient_2"
      ],
      "metadata": {
        "colab": {
          "base_uri": "https://localhost:8080/"
        },
        "id": "oHoa7BpCv-E1",
        "outputId": "75bf810b-84fd-470a-dbe6-4706f4ae8c5d"
      },
      "execution_count": 9,
      "outputs": [
        {
          "output_type": "execute_result",
          "data": {
            "text/plain": [
              "{'first_name': 'Jean-Luc', 'last_name': 'Picard'}"
            ]
          },
          "metadata": {},
          "execution_count": 9
        }
      ]
    },
    {
      "cell_type": "code",
      "source": [
        "del patient_2['first_name']\n",
        "print(patient_2)"
      ],
      "metadata": {
        "colab": {
          "base_uri": "https://localhost:8080/"
        },
        "id": "oloJ3Gx4wx_r",
        "outputId": "0be1786f-1304-4d5b-80b4-21da486b90d3"
      },
      "execution_count": 10,
      "outputs": [
        {
          "output_type": "stream",
          "name": "stdout",
          "text": [
            "{'last_name': 'Picard'}\n"
          ]
        }
      ]
    },
    {
      "cell_type": "code",
      "source": [
        "patient_3 = {'name': 'Jack', 'last name': 'Sparrow', 'MRN': '000000', 'DOB': '02231845'}"
      ],
      "metadata": {
        "id": "HIapZ88-wx9R"
      },
      "execution_count": 12,
      "outputs": []
    },
    {
      "cell_type": "code",
      "source": [
        "patient_3"
      ],
      "metadata": {
        "colab": {
          "base_uri": "https://localhost:8080/"
        },
        "id": "R2ZpIMk5wx6_",
        "outputId": "cbcb9ad2-7436-4d25-88c9-942e4fad1f5b"
      },
      "execution_count": 13,
      "outputs": [
        {
          "output_type": "execute_result",
          "data": {
            "text/plain": [
              "{'DOB': '02231845', 'MRN': '000000', 'last name': 'Sparrow', 'name': 'Jack'}"
            ]
          },
          "metadata": {},
          "execution_count": 13
        }
      ]
    },
    {
      "cell_type": "code",
      "source": [
        "print(f\"The first name of the patient is {patient_3['name']}\")\n",
        "print(f\"The last name of the patient is {patient_3['last name']}\")\n",
        "print(f\"The ID of the patient is {patient_3['MRN']}\")\n",
        "print(f\"The DOB of the patient is {patient_3['DOB']}\")"
      ],
      "metadata": {
        "colab": {
          "base_uri": "https://localhost:8080/"
        },
        "id": "8IdhxXlqwx4o",
        "outputId": "1bc381d6-540b-40bd-ca5e-f28d10ed30d0"
      },
      "execution_count": 16,
      "outputs": [
        {
          "output_type": "stream",
          "name": "stdout",
          "text": [
            "The first name of the patient is Jack\n",
            "The last name of the patient is Sparrow\n",
            "The ID of the patient is 000000\n",
            "The DOB of the patient is 02231845\n"
          ]
        }
      ]
    },
    {
      "cell_type": "markdown",
      "source": [
        "## nesting with dictionaries"
      ],
      "metadata": {
        "id": "PCQTxKB80CLs"
      }
    },
    {
      "cell_type": "code",
      "source": [
        "# dictionary nested inside a dictionarey nested inside a dictionary\n",
        "d = {'key1':{'nestkey':{'subnestkey':'value'}}}"
      ],
      "metadata": {
        "id": "BFtAmA7u11Kf"
      },
      "execution_count": 17,
      "outputs": []
    },
    {
      "cell_type": "code",
      "source": [
        "# Keep calling the keys\n",
        "d['key1']['nestkey']['subnestkey']"
      ],
      "metadata": {
        "colab": {
          "base_uri": "https://localhost:8080/",
          "height": 37
        },
        "id": "ro7CV2pG12FN",
        "outputId": "23dc5962-9785-40f7-99ef-ddea9f66c1cb"
      },
      "execution_count": 18,
      "outputs": [
        {
          "output_type": "execute_result",
          "data": {
            "application/vnd.google.colaboratory.intrinsic+json": {
              "type": "string"
            },
            "text/plain": [
              "'value'"
            ]
          },
          "metadata": {},
          "execution_count": 18
        }
      ]
    },
    {
      "cell_type": "markdown",
      "source": [
        "## dictionary methods"
      ],
      "metadata": {
        "id": "xgY3JWY812CW"
      }
    },
    {
      "cell_type": "code",
      "source": [
        "# Create a typical dictionary\n",
        "d = {'key1':1,'key2':2,'key3':3}"
      ],
      "metadata": {
        "id": "weJhQRP911_m"
      },
      "execution_count": 19,
      "outputs": []
    },
    {
      "cell_type": "code",
      "source": [
        "# Method to return a list of all keys \n",
        "d.keys()"
      ],
      "metadata": {
        "colab": {
          "base_uri": "https://localhost:8080/"
        },
        "id": "e0Jesj8P117f",
        "outputId": "0ef137aa-5448-432e-f6c4-c5a2a8844cb3"
      },
      "execution_count": 20,
      "outputs": [
        {
          "output_type": "execute_result",
          "data": {
            "text/plain": [
              "dict_keys(['key1', 'key2', 'key3'])"
            ]
          },
          "metadata": {},
          "execution_count": 20
        }
      ]
    },
    {
      "cell_type": "code",
      "source": [
        "# Method to grab all values\n",
        "d.values()"
      ],
      "metadata": {
        "colab": {
          "base_uri": "https://localhost:8080/"
        },
        "id": "9N3NKGnQ110i",
        "outputId": "9eaac45b-728b-4caf-e9f6-d27c7d8fc6ce"
      },
      "execution_count": 21,
      "outputs": [
        {
          "output_type": "execute_result",
          "data": {
            "text/plain": [
              "dict_values([1, 2, 3])"
            ]
          },
          "metadata": {},
          "execution_count": 21
        }
      ]
    },
    {
      "cell_type": "code",
      "source": [
        "# Method to return tuples of all items  (we'll learn about tuples soon)\n",
        "d.items()"
      ],
      "metadata": {
        "colab": {
          "base_uri": "https://localhost:8080/"
        },
        "id": "N4achgXS11yX",
        "outputId": "1dcb3bd1-10fd-4a1f-8da3-ad11dd0e1857"
      },
      "execution_count": 22,
      "outputs": [
        {
          "output_type": "execute_result",
          "data": {
            "text/plain": [
              "dict_items([('key1', 1), ('key2', 2), ('key3', 3)])"
            ]
          },
          "metadata": {},
          "execution_count": 22
        }
      ]
    },
    {
      "cell_type": "code",
      "source": [
        ""
      ],
      "metadata": {
        "id": "DXfzIFwy11wA"
      },
      "execution_count": null,
      "outputs": []
    },
    {
      "cell_type": "code",
      "source": [
        ""
      ],
      "metadata": {
        "id": "XTzxFL6F2qLz"
      },
      "execution_count": null,
      "outputs": []
    },
    {
      "cell_type": "code",
      "source": [
        ""
      ],
      "metadata": {
        "id": "SBExK-oX2qJn"
      },
      "execution_count": null,
      "outputs": []
    }
  ]
}