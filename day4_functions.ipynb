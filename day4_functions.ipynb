{
  "nbformat": 4,
  "nbformat_minor": 0,
  "metadata": {
    "colab": {
      "name": "day4-functions.ipynb",
      "provenance": [],
      "authorship_tag": "ABX9TyPlK11tV2L1OJhnSWsTrnG4",
      "include_colab_link": true
    },
    "kernelspec": {
      "name": "python3",
      "display_name": "Python 3"
    },
    "language_info": {
      "name": "python"
    }
  },
  "cells": [
    {
      "cell_type": "markdown",
      "metadata": {
        "id": "view-in-github",
        "colab_type": "text"
      },
      "source": [
        "<a href=\"https://colab.research.google.com/github/nicholasl33/Micro-Cred-2022/blob/main/day4_functions.ipynb\" target=\"_parent\"><img src=\"https://colab.research.google.com/assets/colab-badge.svg\" alt=\"Open In Colab\"/></a>"
      ]
    },
    {
      "cell_type": "markdown",
      "source": [
        "# functions\n",
        "\n",
        "So what is a function?\n",
        "\n",
        "Formally, a function is a useful device that groups together a set of statements so they can be run more than once. They can also let us specify parameters taht can serve as inputs to the functions.\n",
        "\n",
        "On a more fundamental functions allow us to not have to repeatedly write the same code again and again. If you remember back to the lessons on strings and lists, remember that we used a function len() to get the length of a string. Since chekcing the length of a sequence is a common task you would want to write a function that can do this repeatedly at command.\n",
        "\n",
        "Functions will be one of most basic levels of reusing code in Python, and it will allow us to start thinking of program design (we will dive much deeper into the idea of design when we learn about Object Oriented Programming)"
      ],
      "metadata": {
        "id": "76T8QbPGzXvM"
      }
    },
    {
      "cell_type": "markdown",
      "source": [
        "## def Statements\n",
        "\n",
        "Let's see how to build out a function syntax in Python, it has the following form:"
      ],
      "metadata": {
        "id": "nVAysZXjzilg"
      }
    },
    {
      "cell_type": "code",
      "source": [
        "def name_of_function(arg1,arg2):\n",
        "  '''\n",
        "  This is where the function's Document String (doc-string) goes\n",
        "  '''\n",
        "  # do stuff here\n",
        "  # return desired result"
      ],
      "metadata": {
        "id": "s89YmKMbzijI"
      },
      "execution_count": null,
      "outputs": []
    },
    {
      "cell_type": "code",
      "source": [
        "camelCase #starts will lower case\n",
        "PascalCase #each word starts with upper case\n",
        "_variable\n",
        "\n",
        "\n",
        "name_of_function()\n",
        "any_name_you_want()\n",
        "\n",
        "# any function I create must have something to do with the content\n"
      ],
      "metadata": {
        "id": "wgp7-lmuzigq"
      },
      "execution_count": null,
      "outputs": []
    },
    {
      "cell_type": "code",
      "source": [
        "def greeting():\n",
        "  '''\n",
        "  Author: who did this function\n",
        "  Input: what arguments the function takes.\n",
        "  Output: This function displays a greeting\n",
        "  '''\n",
        "  print('Hi there')"
      ],
      "metadata": {
        "id": "yeLnsLAizibt"
      },
      "execution_count": null,
      "outputs": []
    },
    {
      "cell_type": "code",
      "source": [
        "greeting()"
      ],
      "metadata": {
        "colab": {
          "base_uri": "https://localhost:8080/"
        },
        "id": "V7hgnr6rziHH",
        "outputId": "46c9b19e-c8e8-4f13-814a-681a4145f738"
      },
      "execution_count": null,
      "outputs": [
        {
          "output_type": "stream",
          "name": "stdout",
          "text": [
            "Hi there\n"
          ]
        }
      ]
    },
    {
      "cell_type": "code",
      "source": [
        "help(greeting)"
      ],
      "metadata": {
        "colab": {
          "base_uri": "https://localhost:8080/"
        },
        "id": "A6pbipxyziBl",
        "outputId": "69ad0f04-106c-43f2-feba-15a53b804595"
      },
      "execution_count": null,
      "outputs": [
        {
          "output_type": "stream",
          "name": "stdout",
          "text": [
            "Help on function greeting in module __main__:\n",
            "\n",
            "greeting()\n",
            "    Author: who did this function\n",
            "    Input: what arguments the function takes.\n",
            "    Output: This function displays a greeting\n",
            "\n"
          ]
        }
      ]
    },
    {
      "cell_type": "code",
      "source": [
        "def meeting():\n",
        "  '''\n",
        "  This function displays a greeting upon meeting me.\n",
        "  '''\n",
        "  print('Hello Nick. How is it going?')"
      ],
      "metadata": {
        "id": "VWmv6DZHzh-w"
      },
      "execution_count": null,
      "outputs": []
    },
    {
      "cell_type": "code",
      "source": [
        "meeting()"
      ],
      "metadata": {
        "colab": {
          "base_uri": "https://localhost:8080/"
        },
        "id": "ZU9JTGt4zh8X",
        "outputId": "f35314ae-5db6-4dd2-d0b0-2c74d358e098"
      },
      "execution_count": null,
      "outputs": [
        {
          "output_type": "stream",
          "name": "stdout",
          "text": [
            "Hello Nick. How is it going?\n"
          ]
        }
      ]
    },
    {
      "cell_type": "code",
      "source": [
        "def greeting(name):\n",
        "  \"\"\"\n",
        "  this function displays a greeting\n",
        "  \"\"\"\n",
        "  print(\"hello there \" + name + \"!\")\n",
        "\n",
        "greeting('Haley')"
      ],
      "metadata": {
        "colab": {
          "base_uri": "https://localhost:8080/"
        },
        "id": "OHslo7b_zh5v",
        "outputId": "53e43968-49df-4519-c588-26e303b65f84"
      },
      "execution_count": null,
      "outputs": [
        {
          "output_type": "stream",
          "name": "stdout",
          "text": [
            "hello there Haley!\n"
          ]
        }
      ]
    },
    {
      "cell_type": "code",
      "source": [
        "def add_num(num1,num2):\n",
        "  return num1+num2"
      ],
      "metadata": {
        "id": "p2whiwCAzh3L"
      },
      "execution_count": null,
      "outputs": []
    },
    {
      "cell_type": "code",
      "source": [
        "add_num(3,6)"
      ],
      "metadata": {
        "colab": {
          "base_uri": "https://localhost:8080/"
        },
        "id": "y-pTbc3Szhx-",
        "outputId": "b7886fb1-319a-47ee-d8a4-6c121b649ae4"
      },
      "execution_count": null,
      "outputs": [
        {
          "output_type": "execute_result",
          "data": {
            "text/plain": [
              "9"
            ]
          },
          "metadata": {},
          "execution_count": 15
        }
      ]
    },
    {
      "cell_type": "code",
      "source": [
        "add_num('d','g')"
      ],
      "metadata": {
        "colab": {
          "base_uri": "https://localhost:8080/",
          "height": 37
        },
        "id": "EqPzHiP6zhvX",
        "outputId": "c5dae594-ec03-43a1-f3c1-792690288130"
      },
      "execution_count": null,
      "outputs": [
        {
          "output_type": "execute_result",
          "data": {
            "application/vnd.google.colaboratory.intrinsic+json": {
              "type": "string"
            },
            "text/plain": [
              "'dg'"
            ]
          },
          "metadata": {},
          "execution_count": 16
        }
      ]
    },
    {
      "cell_type": "code",
      "source": [
        "def sub_num(x,y):\n",
        "  return x-y"
      ],
      "metadata": {
        "id": "u0HvmzFyzhpE"
      },
      "execution_count": null,
      "outputs": []
    },
    {
      "cell_type": "code",
      "source": [
        "sub_num(10,2)"
      ],
      "metadata": {
        "colab": {
          "base_uri": "https://localhost:8080/"
        },
        "id": "KpIDXZ59zhZ_",
        "outputId": "897fff03-6174-422f-94d4-d53db3afaec5"
      },
      "execution_count": null,
      "outputs": [
        {
          "output_type": "execute_result",
          "data": {
            "text/plain": [
              "8"
            ]
          },
          "metadata": {},
          "execution_count": 19
        }
      ]
    },
    {
      "cell_type": "code",
      "source": [
        "def calculator(a,b):\n",
        "  message = input('What you would like to do? ')"
      ],
      "metadata": {
        "id": "D11YJsHDzhSd"
      },
      "execution_count": null,
      "outputs": []
    },
    {
      "cell_type": "code",
      "source": [
        "def greeting(fname, lname, age):\n",
        "  '''\n",
        "  Author: who did this function\n",
        "  Input: what arguments the function takes.\n",
        "  Output: This function displays a greeting\n",
        "  '''\n",
        "  print(f'Hi there {fname} {lname}. You are {age} years old.')"
      ],
      "metadata": {
        "id": "-XVSxRmxd9o4"
      },
      "execution_count": null,
      "outputs": []
    },
    {
      "cell_type": "code",
      "source": [
        "greeting('nick', 'louie', '22')"
      ],
      "metadata": {
        "colab": {
          "base_uri": "https://localhost:8080/"
        },
        "id": "pVTiGtvmeRC6",
        "outputId": "979028d3-6442-4499-a4e5-83626ee9502a"
      },
      "execution_count": null,
      "outputs": [
        {
          "output_type": "stream",
          "name": "stdout",
          "text": [
            "Hi there nick louie. You are 22 years old.\n"
          ]
        }
      ]
    },
    {
      "cell_type": "code",
      "source": [
        "def greeting(name = 'Mark'):\n",
        "  '''\n",
        "  Author: who did this function\n",
        "  Input: what arguments the function takes.\n",
        "  Output: This function displays a greeting\n",
        "  '''\n",
        "  print(f'Hi there {name}')"
      ],
      "metadata": {
        "id": "ReHtKIEQeQvb"
      },
      "execution_count": null,
      "outputs": []
    },
    {
      "cell_type": "code",
      "source": [
        "greeting()"
      ],
      "metadata": {
        "colab": {
          "base_uri": "https://localhost:8080/"
        },
        "id": "tA-fwbF2eQs3",
        "outputId": "1d37b802-6a2d-4268-cd47-05dbdfadcbc0"
      },
      "execution_count": null,
      "outputs": [
        {
          "output_type": "stream",
          "name": "stdout",
          "text": [
            "Hi there Mark\n"
          ]
        }
      ]
    },
    {
      "cell_type": "markdown",
      "source": [
        "# Write a function that prints prime numbers"
      ],
      "metadata": {
        "id": "LcFC0jLLeQqB"
      }
    },
    {
      "cell_type": "code",
      "source": [
        "# define what prime numbers are\n",
        "\n",
        "def primeCheck():\n",
        "  '''\n",
        "  This function should define what a prime number is.\n",
        "  '''\n",
        "  num1 = input('Enter a number to see if its prime ')\n",
        "\n",
        "  if int(num1) > 1:\n",
        "    for x in range(2,int(num1)):\n",
        "# checks to see if the number is divisible by the other number\n",
        "      if (int(num1) % x) == 0:\n",
        "        print(f\"{num1} is not a prime number\")\n",
        "        break\n",
        "    else:\n",
        "      print(f\"{num1} is a prime number\")\n",
        "\n",
        "  else:\n",
        "      print(f\"{num1} is not a prime number\")"
      ],
      "metadata": {
        "id": "nZuo9RQEgPCA"
      },
      "execution_count": null,
      "outputs": []
    },
    {
      "cell_type": "code",
      "source": [
        "primeCheck()"
      ],
      "metadata": {
        "colab": {
          "base_uri": "https://localhost:8080/"
        },
        "id": "wPk3VyDzgO-2",
        "outputId": "9b8c9a17-e4fc-4864-8a0a-57574461553b"
      },
      "execution_count": null,
      "outputs": [
        {
          "output_type": "stream",
          "name": "stdout",
          "text": [
            "Enter a number to see if its prime 1\n",
            "1 is not a prime number\n"
          ]
        }
      ]
    },
    {
      "cell_type": "code",
      "source": [
        ""
      ],
      "metadata": {
        "id": "dXO3dEapgO7o"
      },
      "execution_count": null,
      "outputs": []
    },
    {
      "cell_type": "code",
      "source": [
        ""
      ],
      "metadata": {
        "id": "dujfXqICgO5B"
      },
      "execution_count": null,
      "outputs": []
    },
    {
      "cell_type": "code",
      "source": [
        ""
      ],
      "metadata": {
        "id": "3kAgiI-_gO2g"
      },
      "execution_count": null,
      "outputs": []
    },
    {
      "cell_type": "code",
      "source": [
        ""
      ],
      "metadata": {
        "id": "-2p7uyNsgOzs"
      },
      "execution_count": null,
      "outputs": []
    },
    {
      "cell_type": "markdown",
      "source": [
        "# Write a calculator"
      ],
      "metadata": {
        "id": "gE2GkxZ1zhLr"
      }
    },
    {
      "cell_type": "code",
      "source": [
        "# Simple Calculator\n",
        "\n",
        "def add(x,y):\n",
        "  return x + y\n",
        "def subtract(x,y):\n",
        "  return x - y\n",
        "def multiply(x,y):\n",
        "  return x * y \n",
        "def divide(x,y):\n",
        "  return x / y \n",
        "\n",
        "# Take inpute from the user\n",
        "\n",
        "print(\"select operation \")\n",
        "print(\"1: Add\")\n",
        "print(\"2: Subtract\")\n",
        "print(\"3: Multiply\")\n",
        "print(\"4: Divide\")\n",
        "\n",
        "choice = input(\"Enter choice(1/2/3/4): \")\n",
        "\n",
        "num1 = float(input(\"Enter first number: \"))\n",
        "num2 = float(input(\"Enter second number: \"))\n",
        "\n",
        "if choice == '1':\n",
        "  print(num1, \"+\", num2, \"=\", add(num1,num2))\n",
        "\n",
        "elif choice == '2':\n",
        "  print(num1, \"-\", num2, \"=\", subtract(num1,num2))\n",
        "\n",
        "elif choice == '3':\n",
        "  print(num1, \"*\", num2, \"=\", multiply(num1,num2))\n",
        "\n",
        "elif choice == '4':\n",
        "  print(num1, \"/\", num2, \"=\", divide(num1,num2))\n",
        "else:\n",
        "  print(\"Invalid input\")"
      ],
      "metadata": {
        "colab": {
          "base_uri": "https://localhost:8080/"
        },
        "id": "9A7Iv0pWzhIj",
        "outputId": "0a8db431-2aae-4a8d-f191-00831efd2068"
      },
      "execution_count": null,
      "outputs": [
        {
          "output_type": "stream",
          "name": "stdout",
          "text": [
            "select operation \n",
            "1: Add\n",
            "2: Subtract\n",
            "3: Multiply\n",
            "4: Divide\n",
            "Enter choice(1/2/3/4): 3\n",
            "Enter first number: 5\n",
            "Enter second number: 4\n",
            "5.0 * 4.0 = 20.0\n"
          ]
        }
      ]
    },
    {
      "cell_type": "code",
      "source": [
        ""
      ],
      "metadata": {
        "id": "vpxF8JwXzhFc"
      },
      "execution_count": null,
      "outputs": []
    },
    {
      "cell_type": "code",
      "source": [
        ""
      ],
      "metadata": {
        "id": "XsTQMVTEzhBO"
      },
      "execution_count": null,
      "outputs": []
    },
    {
      "cell_type": "code",
      "source": [
        ""
      ],
      "metadata": {
        "id": "_0Tz7KLVzg6_"
      },
      "execution_count": null,
      "outputs": []
    },
    {
      "cell_type": "code",
      "source": [
        ""
      ],
      "metadata": {
        "id": "ARr1sn_mzg2B"
      },
      "execution_count": null,
      "outputs": []
    },
    {
      "cell_type": "code",
      "source": [
        ""
      ],
      "metadata": {
        "id": "2Kk1cVfZzgf6"
      },
      "execution_count": null,
      "outputs": []
    },
    {
      "cell_type": "code",
      "source": [
        ""
      ],
      "metadata": {
        "id": "fKWSRv5udsqO"
      },
      "execution_count": null,
      "outputs": []
    }
  ]
}