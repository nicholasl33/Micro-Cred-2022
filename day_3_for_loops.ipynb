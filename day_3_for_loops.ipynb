{
  "nbformat": 4,
  "nbformat_minor": 0,
  "metadata": {
    "colab": {
      "name": "day-3 for loops.ipynb",
      "provenance": [],
      "authorship_tag": "ABX9TyNi64VyPg4VwAQPTu8YwjzQ",
      "include_colab_link": true
    },
    "kernelspec": {
      "name": "python3",
      "display_name": "Python 3"
    },
    "language_info": {
      "name": "python"
    }
  },
  "cells": [
    {
      "cell_type": "markdown",
      "metadata": {
        "id": "view-in-github",
        "colab_type": "text"
      },
      "source": [
        "<a href=\"https://colab.research.google.com/github/nicholasl33/Micro-Cred-2022/blob/main/day_3_for_loops.ipynb\" target=\"_parent\"><img src=\"https://colab.research.google.com/assets/colab-badge.svg\" alt=\"Open In Colab\"/></a>"
      ]
    },
    {
      "cell_type": "markdown",
      "source": [
        "# for loops"
      ],
      "metadata": {
        "id": "ibssGEg7699i"
      }
    },
    {
      "cell_type": "code",
      "source": [
        "# looping allows you to essentially 'automate' a task\n",
        "# allows to perform the same task over and over a list of data points"
      ],
      "metadata": {
        "id": "PMETts3X7EiA"
      },
      "execution_count": 1,
      "outputs": []
    },
    {
      "cell_type": "code",
      "source": [
        "for x in 'CUNY':\n",
        "  print(x)"
      ],
      "metadata": {
        "colab": {
          "base_uri": "https://localhost:8080/"
        },
        "id": "wUnsnQye7Efo",
        "outputId": "f540d6ce-36f1-4e70-e628-88b218886c0e"
      },
      "execution_count": 2,
      "outputs": [
        {
          "output_type": "stream",
          "name": "stdout",
          "text": [
            "C\n",
            "U\n",
            "N\n",
            "Y\n"
          ]
        }
      ]
    },
    {
      "cell_type": "code",
      "source": [
        "tvshows = ['star trek', 'game of thrones', 'stranger things']\n",
        "for show in tvshows:\n",
        "# this line tells python to retrieve the first value from the list tvshows and store it in a varaible show\n",
        "  print(show)\n",
        "# python then prints the current value of show. since the list has more than one value, loop continues\n",
        "\n"
      ],
      "metadata": {
        "colab": {
          "base_uri": "https://localhost:8080/"
        },
        "id": "UAv-5tX_7EdQ",
        "outputId": "e40db8fe-fdc1-4b62-86a2-5ce496334513"
      },
      "execution_count": 4,
      "outputs": [
        {
          "output_type": "stream",
          "name": "stdout",
          "text": [
            "star trek\n",
            "game of thrones\n",
            "stranger things\n"
          ]
        }
      ]
    },
    {
      "cell_type": "code",
      "source": [
        "tvshows = ['star trek', 'game of thrones', 'stranger things']\n",
        "for show in tvshows:\n",
        "  print(show.title() + ',is one of my favorite shows!')\n",
        "# ^ white space automatically created by python"
      ],
      "metadata": {
        "colab": {
          "base_uri": "https://localhost:8080/"
        },
        "id": "Lu96EjjS7EbL",
        "outputId": "60374560-6468-4810-fb73-aadb065a403f"
      },
      "execution_count": 6,
      "outputs": [
        {
          "output_type": "stream",
          "name": "stdout",
          "text": [
            "Star Trek,is one of my favorite shows!\n",
            "Game Of Thrones,is one of my favorite shows!\n",
            "Stranger Things,is one of my favorite shows!\n"
          ]
        }
      ]
    },
    {
      "cell_type": "code",
      "source": [
        "for x in range(1,21):\n",
        "  print(x)\n"
      ],
      "metadata": {
        "colab": {
          "base_uri": "https://localhost:8080/"
        },
        "id": "N_aeSogK7EY3",
        "outputId": "82f09303-db1d-4c05-dffd-4b82bf21fc7b"
      },
      "execution_count": 9,
      "outputs": [
        {
          "output_type": "stream",
          "name": "stdout",
          "text": [
            "1\n",
            "2\n",
            "3\n",
            "4\n",
            "5\n",
            "6\n",
            "7\n",
            "8\n",
            "9\n",
            "10\n",
            "11\n",
            "12\n",
            "13\n",
            "14\n",
            "15\n",
            "16\n",
            "17\n",
            "18\n",
            "19\n",
            "20\n"
          ]
        }
      ]
    },
    {
      "cell_type": "code",
      "source": [
        "for x in range(1,21):\n",
        "  print(x+3)"
      ],
      "metadata": {
        "colab": {
          "base_uri": "https://localhost:8080/"
        },
        "id": "0EWi-LLC7EWS",
        "outputId": "b3c531a2-ee36-49b6-e408-ed0a74b43e23"
      },
      "execution_count": 10,
      "outputs": [
        {
          "output_type": "stream",
          "name": "stdout",
          "text": [
            "4\n",
            "5\n",
            "6\n",
            "7\n",
            "8\n",
            "9\n",
            "10\n",
            "11\n",
            "12\n",
            "13\n",
            "14\n",
            "15\n",
            "16\n",
            "17\n",
            "18\n",
            "19\n",
            "20\n",
            "21\n",
            "22\n",
            "23\n"
          ]
        }
      ]
    },
    {
      "cell_type": "code",
      "source": [
        "for x in list(range(1,21)):\n",
        "  print(x)"
      ],
      "metadata": {
        "colab": {
          "base_uri": "https://localhost:8080/"
        },
        "id": "uL2VmdCI7ERy",
        "outputId": "5439ba80-800b-4196-91c6-538a8bbab6ff"
      },
      "execution_count": 11,
      "outputs": [
        {
          "output_type": "stream",
          "name": "stdout",
          "text": [
            "1\n",
            "2\n",
            "3\n",
            "4\n",
            "5\n",
            "6\n",
            "7\n",
            "8\n",
            "9\n",
            "10\n",
            "11\n",
            "12\n",
            "13\n",
            "14\n",
            "15\n",
            "16\n",
            "17\n",
            "18\n",
            "19\n",
            "20\n"
          ]
        }
      ]
    },
    {
      "cell_type": "code",
      "source": [
        "list(range(1,21))"
      ],
      "metadata": {
        "colab": {
          "base_uri": "https://localhost:8080/"
        },
        "id": "EizkZRIs7EPe",
        "outputId": "5bf4e535-ad7a-4406-b95a-a8e1c8bd559d"
      },
      "execution_count": 15,
      "outputs": [
        {
          "output_type": "execute_result",
          "data": {
            "text/plain": [
              "[1, 2, 3, 4, 5, 6, 7, 8, 9, 10, 11, 12, 13, 14, 15, 16, 17, 18, 19, 20]"
            ]
          },
          "metadata": {},
          "execution_count": 15
        }
      ]
    },
    {
      "cell_type": "code",
      "source": [
        "list(range(1,21, 2))\n",
        "# counts the numbers by 2"
      ],
      "metadata": {
        "colab": {
          "base_uri": "https://localhost:8080/"
        },
        "id": "0Y_JP_yd7ENJ",
        "outputId": "4bb6c8fe-f5bc-4a0d-c976-e5695fa2f00c"
      },
      "execution_count": 16,
      "outputs": [
        {
          "output_type": "execute_result",
          "data": {
            "text/plain": [
              "[1, 3, 5, 7, 9, 11, 13, 15, 17, 19]"
            ]
          },
          "metadata": {},
          "execution_count": 16
        }
      ]
    },
    {
      "cell_type": "code",
      "source": [
        "num = list(range(1,11))"
      ],
      "metadata": {
        "id": "OZJRg_oP7ELC"
      },
      "execution_count": 17,
      "outputs": []
    },
    {
      "cell_type": "code",
      "source": [
        "num"
      ],
      "metadata": {
        "colab": {
          "base_uri": "https://localhost:8080/"
        },
        "id": "OP5wnhfuDWSJ",
        "outputId": "f38370e6-1538-4450-efa8-73da8e921dba"
      },
      "execution_count": 18,
      "outputs": [
        {
          "output_type": "execute_result",
          "data": {
            "text/plain": [
              "[1, 2, 3, 4, 5, 6, 7, 8, 9, 10]"
            ]
          },
          "metadata": {},
          "execution_count": 18
        }
      ]
    },
    {
      "cell_type": "code",
      "source": [
        "len(num)"
      ],
      "metadata": {
        "colab": {
          "base_uri": "https://localhost:8080/"
        },
        "id": "B-fgvap7DXSA",
        "outputId": "e97e0347-1325-4e02-d695-72fc0d92ea78"
      },
      "execution_count": 19,
      "outputs": [
        {
          "output_type": "execute_result",
          "data": {
            "text/plain": [
              "10"
            ]
          },
          "metadata": {},
          "execution_count": 19
        }
      ]
    },
    {
      "cell_type": "code",
      "source": [
        "min(num)"
      ],
      "metadata": {
        "colab": {
          "base_uri": "https://localhost:8080/"
        },
        "id": "t6-CujUMDYhR",
        "outputId": "6fb8bae3-6b18-4d09-c9e8-bde11aa0d36f"
      },
      "execution_count": 20,
      "outputs": [
        {
          "output_type": "execute_result",
          "data": {
            "text/plain": [
              "1"
            ]
          },
          "metadata": {},
          "execution_count": 20
        }
      ]
    },
    {
      "cell_type": "code",
      "source": [
        "max(num)"
      ],
      "metadata": {
        "colab": {
          "base_uri": "https://localhost:8080/"
        },
        "id": "dbK-jJ8gDZuj",
        "outputId": "6c50f825-efe1-4802-ca2a-549790b65390"
      },
      "execution_count": 21,
      "outputs": [
        {
          "output_type": "execute_result",
          "data": {
            "text/plain": [
              "10"
            ]
          },
          "metadata": {},
          "execution_count": 21
        }
      ]
    },
    {
      "cell_type": "code",
      "source": [
        "sum(num)"
      ],
      "metadata": {
        "colab": {
          "base_uri": "https://localhost:8080/"
        },
        "id": "0p8zeGutDbAW",
        "outputId": "c611903e-8a38-4f6e-814c-b9ffd8fd7d92"
      },
      "execution_count": 23,
      "outputs": [
        {
          "output_type": "execute_result",
          "data": {
            "text/plain": [
              "55"
            ]
          },
          "metadata": {},
          "execution_count": 23
        }
      ]
    },
    {
      "cell_type": "code",
      "source": [
        "17 % 2"
      ],
      "metadata": {
        "colab": {
          "base_uri": "https://localhost:8080/"
        },
        "id": "t_XJe7b_EDIL",
        "outputId": "1e3d06e1-0b7e-4cec-de5f-454ce69e4404"
      },
      "execution_count": 27,
      "outputs": [
        {
          "output_type": "execute_result",
          "data": {
            "text/plain": [
              "1"
            ]
          },
          "metadata": {},
          "execution_count": 27
        }
      ]
    },
    {
      "cell_type": "code",
      "source": [
        "18 % 7"
      ],
      "metadata": {
        "colab": {
          "base_uri": "https://localhost:8080/"
        },
        "id": "1VIdbwU4EDEl",
        "outputId": "de43ca05-dbc2-47dc-d96d-f54807efdb0c"
      },
      "execution_count": 28,
      "outputs": [
        {
          "output_type": "execute_result",
          "data": {
            "text/plain": [
              "4"
            ]
          },
          "metadata": {},
          "execution_count": 28
        }
      ]
    },
    {
      "cell_type": "code",
      "source": [
        "l = [1, 2, 3, 4, 5, 6, 7, 8, 9, 10]"
      ],
      "metadata": {
        "id": "2q-Kk0HUDyoq"
      },
      "execution_count": 25,
      "outputs": []
    },
    {
      "cell_type": "code",
      "source": [
        "for num in l:\n",
        "  if num % 2 == 0:\n",
        "    print(num)\n",
        "# if the number in the list divided by 2 has a remainder that equals 0 it prints\n",
        "  else:\n",
        "    print('This is not an even number')"
      ],
      "metadata": {
        "colab": {
          "base_uri": "https://localhost:8080/"
        },
        "id": "xmkMeEZXDyme",
        "outputId": "864ee449-3b29-48b1-f4ab-261480958fc1"
      },
      "execution_count": 30,
      "outputs": [
        {
          "output_type": "stream",
          "name": "stdout",
          "text": [
            "This is not an even number\n",
            "2\n",
            "This is not an even number\n",
            "4\n",
            "This is not an even number\n",
            "6\n",
            "This is not an even number\n",
            "8\n",
            "This is not an even number\n",
            "10\n"
          ]
        }
      ]
    },
    {
      "cell_type": "code",
      "source": [
        "for num in l:\n",
        "  if num % 2 == 1:\n",
        "    print(num)\n",
        "  else:\n",
        "    print('This is not an odd number')"
      ],
      "metadata": {
        "colab": {
          "base_uri": "https://localhost:8080/"
        },
        "id": "CbblJTNfDykW",
        "outputId": "19684f23-dece-422f-e959-d73ae9db8056"
      },
      "execution_count": 37,
      "outputs": [
        {
          "output_type": "stream",
          "name": "stdout",
          "text": [
            "1\n",
            "This is not an odd number\n",
            "3\n",
            "This is not an odd number\n",
            "5\n",
            "This is not an odd number\n",
            "7\n",
            "This is not an odd number\n",
            "9\n",
            "This is not an odd number\n"
          ]
        }
      ]
    },
    {
      "cell_type": "code",
      "source": [
        "l2 = [12, 45, 6, 3, 45, 678, 2, 45657]"
      ],
      "metadata": {
        "id": "naZCxlXBGm9L"
      },
      "execution_count": 42,
      "outputs": []
    },
    {
      "cell_type": "code",
      "source": [
        "listSum = 0\n",
        "\n",
        "for num in l2:\n",
        "  listSum = listSum + num\n",
        "\n",
        "print(listSum)"
      ],
      "metadata": {
        "colab": {
          "base_uri": "https://localhost:8080/"
        },
        "id": "6IMN3MnFDyiR",
        "outputId": "02bf580e-d4d1-4db3-e955-0de26663c263"
      },
      "execution_count": 43,
      "outputs": [
        {
          "output_type": "stream",
          "name": "stdout",
          "text": [
            "46448\n"
          ]
        }
      ]
    },
    {
      "cell_type": "code",
      "source": [
        "dy = {'k1': 1, 'k2': 2, 'k3': 3, 'k4': 4}"
      ],
      "metadata": {
        "id": "TXXnNjeoDygF"
      },
      "execution_count": 44,
      "outputs": []
    },
    {
      "cell_type": "code",
      "source": [
        "for item in dy:\n",
        "  print(item)"
      ],
      "metadata": {
        "colab": {
          "base_uri": "https://localhost:8080/"
        },
        "id": "WH6JEDE2G-gb",
        "outputId": "802fe340-8ffb-4843-a2fe-53d3f83043c3"
      },
      "execution_count": 45,
      "outputs": [
        {
          "output_type": "stream",
          "name": "stdout",
          "text": [
            "k1\n",
            "k2\n",
            "k3\n",
            "k4\n"
          ]
        }
      ]
    },
    {
      "cell_type": "code",
      "source": [
        "for k,v in dy.items():\n",
        "  print(k)\n",
        "  print(v)"
      ],
      "metadata": {
        "colab": {
          "base_uri": "https://localhost:8080/"
        },
        "id": "7UaZPWWoHEL3",
        "outputId": "1401ca04-1753-49df-d522-2c3afaebc600"
      },
      "execution_count": 46,
      "outputs": [
        {
          "output_type": "stream",
          "name": "stdout",
          "text": [
            "k1\n",
            "1\n",
            "k2\n",
            "2\n",
            "k3\n",
            "3\n",
            "k4\n",
            "4\n"
          ]
        }
      ]
    },
    {
      "cell_type": "code",
      "source": [
        ""
      ],
      "metadata": {
        "id": "zr5Jk_XOHZ0x"
      },
      "execution_count": null,
      "outputs": []
    }
  ]
}